{
 "cells": [
  {
   "cell_type": "markdown",
   "id": "396c2888-51cf-4f1f-a623-cacc3acd9d35",
   "metadata": {},
   "source": [
    "# Generate a list of options for language selection in a web form"
   ]
  },
  {
   "cell_type": "code",
   "execution_count": 16,
   "id": "430bb00e-bf56-44c3-9003-c77ccedc9c1b",
   "metadata": {},
   "outputs": [],
   "source": [
    "import json"
   ]
  },
  {
   "cell_type": "code",
   "execution_count": 17,
   "id": "4fcb52bb-cdbe-4755-a66a-0e1fe7ced20e",
   "metadata": {},
   "outputs": [],
   "source": [
    "with open('whisper_languages.json') as f:\n",
    "    languages = json.load(f)['lang_to_code']"
   ]
  },
  {
   "cell_type": "code",
   "execution_count": 18,
   "id": "e3206790-b169-49d2-8407-39fcdebb596a",
   "metadata": {
    "scrolled": true
   },
   "outputs": [
    {
     "data": {
      "text/plain": [
       "[('afrikaans', 'af'),\n",
       " ('albanian', 'sq'),\n",
       " ('amharic', 'am'),\n",
       " ('arabic', 'ar'),\n",
       " ('armenian', 'hy'),\n",
       " ('assamese', 'as'),\n",
       " ('azerbaijani', 'az'),\n",
       " ('bashkir', 'ba'),\n",
       " ('basque', 'eu'),\n",
       " ('belarusian', 'be'),\n",
       " ('bengali', 'bn'),\n",
       " ('bosnian', 'bs'),\n",
       " ('breton', 'br'),\n",
       " ('bulgarian', 'bg'),\n",
       " ('cantonese', 'yue'),\n",
       " ('catalan', 'ca'),\n",
       " ('chinese', 'zh'),\n",
       " ('croatian', 'hr'),\n",
       " ('czech', 'cs'),\n",
       " ('danish', 'da'),\n",
       " ('dutch', 'nl'),\n",
       " ('english', 'en'),\n",
       " ('estonian', 'et'),\n",
       " ('faroese', 'fo'),\n",
       " ('finnish', 'fi'),\n",
       " ('french', 'fr'),\n",
       " ('galician', 'gl'),\n",
       " ('georgian', 'ka'),\n",
       " ('german', 'de'),\n",
       " ('greek', 'el'),\n",
       " ('gujarati', 'gu'),\n",
       " ('haitian creole', 'ht'),\n",
       " ('hausa', 'ha'),\n",
       " ('hawaiian', 'haw'),\n",
       " ('hebrew', 'he'),\n",
       " ('hindi', 'hi'),\n",
       " ('hungarian', 'hu'),\n",
       " ('icelandic', 'is'),\n",
       " ('indonesian', 'id'),\n",
       " ('italian', 'it'),\n",
       " ('japanese', 'ja'),\n",
       " ('javanese', 'jw'),\n",
       " ('kannada', 'kn'),\n",
       " ('kazakh', 'kk'),\n",
       " ('khmer', 'km'),\n",
       " ('korean', 'ko'),\n",
       " ('lao', 'lo'),\n",
       " ('latin', 'la'),\n",
       " ('latvian', 'lv'),\n",
       " ('lingala', 'ln'),\n",
       " ('lithuanian', 'lt'),\n",
       " ('luxembourgish', 'lb'),\n",
       " ('macedonian', 'mk'),\n",
       " ('malagasy', 'mg'),\n",
       " ('malay', 'ms'),\n",
       " ('malayalam', 'ml'),\n",
       " ('maltese', 'mt'),\n",
       " ('maori', 'mi'),\n",
       " ('marathi', 'mr'),\n",
       " ('mongolian', 'mn'),\n",
       " ('myanmar', 'my'),\n",
       " ('nepali', 'ne'),\n",
       " ('norwegian', 'no'),\n",
       " ('nynorsk', 'nn'),\n",
       " ('occitan', 'oc'),\n",
       " ('pashto', 'ps'),\n",
       " ('persian', 'fa'),\n",
       " ('polish', 'pl'),\n",
       " ('portuguese', 'pt'),\n",
       " ('punjabi', 'pa'),\n",
       " ('romanian', 'ro'),\n",
       " ('russian', 'ru'),\n",
       " ('sanskrit', 'sa'),\n",
       " ('serbian', 'sr'),\n",
       " ('shona', 'sn'),\n",
       " ('sindhi', 'sd'),\n",
       " ('sinhala', 'si'),\n",
       " ('slovak', 'sk'),\n",
       " ('slovenian', 'sl'),\n",
       " ('somali', 'so'),\n",
       " ('spanish', 'es'),\n",
       " ('sundanese', 'su'),\n",
       " ('swahili', 'sw'),\n",
       " ('swedish', 'sv'),\n",
       " ('tagalog', 'tl'),\n",
       " ('tajik', 'tg'),\n",
       " ('tamil', 'ta'),\n",
       " ('tatar', 'tt'),\n",
       " ('telugu', 'te'),\n",
       " ('thai', 'th'),\n",
       " ('tibetan', 'bo'),\n",
       " ('turkish', 'tr'),\n",
       " ('turkmen', 'tk'),\n",
       " ('ukrainian', 'uk'),\n",
       " ('urdu', 'ur'),\n",
       " ('uzbek', 'uz'),\n",
       " ('vietnamese', 'vi'),\n",
       " ('welsh', 'cy'),\n",
       " ('yiddish', 'yi'),\n",
       " ('yoruba', 'yo')]"
      ]
     },
     "execution_count": 18,
     "metadata": {},
     "output_type": "execute_result"
    }
   ],
   "source": [
    "languages = list(languages.items())\n",
    "languages.sort()\n",
    "languages"
   ]
  },
  {
   "cell_type": "code",
   "execution_count": 19,
   "id": "aa097f1d-3ae0-48ff-807e-d7f7c63ba221",
   "metadata": {},
   "outputs": [],
   "source": [
    "lang_options = []\n",
    "for language, code in languages:\n",
    "    lang_options.append(f'<option value=\"{code}\">{language.title()}</option>')\n",
    "lang_options = '\\n'.join(lang_options)"
   ]
  },
  {
   "cell_type": "code",
   "execution_count": 20,
   "id": "540b8ad3-9421-44d4-9e9a-2ac7ce75914f",
   "metadata": {},
   "outputs": [
    {
     "name": "stdout",
     "output_type": "stream",
     "text": [
      "<option value=\"af\">Afrikaans</option>\n",
      "<option value=\"sq\">Albanian</option>\n",
      "<option value=\"am\">Amharic</option>\n",
      "<option value=\"ar\">Arabic</option>\n",
      "<option value=\"hy\">Armenian</option>\n",
      "<option value=\"as\">Assamese</option>\n",
      "<option value=\"az\">Azerbaijani</option>\n",
      "<option value=\"ba\">Bashkir</option>\n",
      "<option value=\"eu\">Basque</option>\n",
      "<option value=\"be\">Belarusian</option>\n",
      "<option value=\"bn\">Bengali</option>\n",
      "<option value=\"bs\">Bosnian</option>\n",
      "<option value=\"br\">Breton</option>\n",
      "<option value=\"bg\">Bulgarian</option>\n",
      "<option value=\"yue\">Cantonese</option>\n",
      "<option value=\"ca\">Catalan</option>\n",
      "<option value=\"zh\">Chinese</option>\n",
      "<option value=\"hr\">Croatian</option>\n",
      "<option value=\"cs\">Czech</option>\n",
      "<option value=\"da\">Danish</option>\n",
      "<option value=\"nl\">Dutch</option>\n",
      "<option value=\"en\">English</option>\n",
      "<option value=\"et\">Estonian</option>\n",
      "<option value=\"fo\">Faroese</option>\n",
      "<option value=\"fi\">Finnish</option>\n",
      "<option value=\"fr\">French</option>\n",
      "<option value=\"gl\">Galician</option>\n",
      "<option value=\"ka\">Georgian</option>\n",
      "<option value=\"de\">German</option>\n",
      "<option value=\"el\">Greek</option>\n",
      "<option value=\"gu\">Gujarati</option>\n",
      "<option value=\"ht\">Haitian Creole</option>\n",
      "<option value=\"ha\">Hausa</option>\n",
      "<option value=\"haw\">Hawaiian</option>\n",
      "<option value=\"he\">Hebrew</option>\n",
      "<option value=\"hi\">Hindi</option>\n",
      "<option value=\"hu\">Hungarian</option>\n",
      "<option value=\"is\">Icelandic</option>\n",
      "<option value=\"id\">Indonesian</option>\n",
      "<option value=\"it\">Italian</option>\n",
      "<option value=\"ja\">Japanese</option>\n",
      "<option value=\"jw\">Javanese</option>\n",
      "<option value=\"kn\">Kannada</option>\n",
      "<option value=\"kk\">Kazakh</option>\n",
      "<option value=\"km\">Khmer</option>\n",
      "<option value=\"ko\">Korean</option>\n",
      "<option value=\"lo\">Lao</option>\n",
      "<option value=\"la\">Latin</option>\n",
      "<option value=\"lv\">Latvian</option>\n",
      "<option value=\"ln\">Lingala</option>\n",
      "<option value=\"lt\">Lithuanian</option>\n",
      "<option value=\"lb\">Luxembourgish</option>\n",
      "<option value=\"mk\">Macedonian</option>\n",
      "<option value=\"mg\">Malagasy</option>\n",
      "<option value=\"ms\">Malay</option>\n",
      "<option value=\"ml\">Malayalam</option>\n",
      "<option value=\"mt\">Maltese</option>\n",
      "<option value=\"mi\">Maori</option>\n",
      "<option value=\"mr\">Marathi</option>\n",
      "<option value=\"mn\">Mongolian</option>\n",
      "<option value=\"my\">Myanmar</option>\n",
      "<option value=\"ne\">Nepali</option>\n",
      "<option value=\"no\">Norwegian</option>\n",
      "<option value=\"nn\">Nynorsk</option>\n",
      "<option value=\"oc\">Occitan</option>\n",
      "<option value=\"ps\">Pashto</option>\n",
      "<option value=\"fa\">Persian</option>\n",
      "<option value=\"pl\">Polish</option>\n",
      "<option value=\"pt\">Portuguese</option>\n",
      "<option value=\"pa\">Punjabi</option>\n",
      "<option value=\"ro\">Romanian</option>\n",
      "<option value=\"ru\">Russian</option>\n",
      "<option value=\"sa\">Sanskrit</option>\n",
      "<option value=\"sr\">Serbian</option>\n",
      "<option value=\"sn\">Shona</option>\n",
      "<option value=\"sd\">Sindhi</option>\n",
      "<option value=\"si\">Sinhala</option>\n",
      "<option value=\"sk\">Slovak</option>\n",
      "<option value=\"sl\">Slovenian</option>\n",
      "<option value=\"so\">Somali</option>\n",
      "<option value=\"es\">Spanish</option>\n",
      "<option value=\"su\">Sundanese</option>\n",
      "<option value=\"sw\">Swahili</option>\n",
      "<option value=\"sv\">Swedish</option>\n",
      "<option value=\"tl\">Tagalog</option>\n",
      "<option value=\"tg\">Tajik</option>\n",
      "<option value=\"ta\">Tamil</option>\n",
      "<option value=\"tt\">Tatar</option>\n",
      "<option value=\"te\">Telugu</option>\n",
      "<option value=\"th\">Thai</option>\n",
      "<option value=\"bo\">Tibetan</option>\n",
      "<option value=\"tr\">Turkish</option>\n",
      "<option value=\"tk\">Turkmen</option>\n",
      "<option value=\"uk\">Ukrainian</option>\n",
      "<option value=\"ur\">Urdu</option>\n",
      "<option value=\"uz\">Uzbek</option>\n",
      "<option value=\"vi\">Vietnamese</option>\n",
      "<option value=\"cy\">Welsh</option>\n",
      "<option value=\"yi\">Yiddish</option>\n",
      "<option value=\"yo\">Yoruba</option>\n"
     ]
    }
   ],
   "source": [
    "print(lang_options)"
   ]
  },
  {
   "cell_type": "code",
   "execution_count": 10,
   "id": "7209c0aa-2f40-447c-9fe5-f05228bfbc9a",
   "metadata": {},
   "outputs": [],
   "source": [
    "d = {'b': 'y', 'a': 'z', 'c': 'x'}"
   ]
  },
  {
   "cell_type": "code",
   "execution_count": 11,
   "id": "1c1656bb-8f04-4367-a8a5-259c80f6a22a",
   "metadata": {},
   "outputs": [],
   "source": [
    "d = list(d.items())"
   ]
  },
  {
   "cell_type": "code",
   "execution_count": 14,
   "id": "a327edba-f7d9-4c93-bd12-71a1c53fcd9c",
   "metadata": {},
   "outputs": [
    {
     "data": {
      "text/plain": [
       "[('a', 'z'), ('b', 'y'), ('c', 'x')]"
      ]
     },
     "execution_count": 14,
     "metadata": {},
     "output_type": "execute_result"
    }
   ],
   "source": [
    "d.sort()\n",
    "d"
   ]
  },
  {
   "cell_type": "code",
   "execution_count": 15,
   "id": "1d6c6db7-99f0-4d1b-8304-d68541c069a4",
   "metadata": {},
   "outputs": [
    {
     "data": {
      "text/plain": [
       "{'a': 'z', 'b': 'y', 'c': 'x'}"
      ]
     },
     "execution_count": 15,
     "metadata": {},
     "output_type": "execute_result"
    }
   ],
   "source": [
    "dict(d)"
   ]
  }
 ],
 "metadata": {
  "kernelspec": {
   "display_name": "Python 3 (ipykernel)",
   "language": "python",
   "name": "python3"
  },
  "language_info": {
   "codemirror_mode": {
    "name": "ipython",
    "version": 3
   },
   "file_extension": ".py",
   "mimetype": "text/x-python",
   "name": "python",
   "nbconvert_exporter": "python",
   "pygments_lexer": "ipython3",
   "version": "3.13.2"
  }
 },
 "nbformat": 4,
 "nbformat_minor": 5
}
